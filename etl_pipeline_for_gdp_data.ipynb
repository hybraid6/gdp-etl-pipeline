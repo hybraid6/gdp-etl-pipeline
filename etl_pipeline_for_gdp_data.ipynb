{
 "cells": [
  {
   "cell_type": "markdown",
   "id": "43149f8d",
   "metadata": {},
   "source": [
    "## ETL Pipeline for GDP Data from Archived Wikipedia"
   ]
  },
  {
   "cell_type": "markdown",
   "id": "ea676ee9",
   "metadata": {},
   "source": [
    "This notebook demonstrates an Extract-Transform-Load (ETL) process\n",
    "that scrapes GDP (Nominal) data from an archived Wikipedia page,\n",
    "cleans and transforms the data, and saves it to a CSV file.\n",
    "\n",
    "----"
   ]
  },
  {
   "cell_type": "markdown",
   "id": "7c88c497",
   "metadata": {},
   "source": [
    "Imports & Logging Setup"
   ]
  },
  {
   "cell_type": "code",
   "execution_count": null,
   "id": "e5f49085",
   "metadata": {},
   "outputs": [],
   "source": [
    "# Import necessary libraries\n",
    "import requests\n",
    "import pandas as pd\n",
    "import logging\n",
    "from bs4 import BeautifulSoup\n",
    "from datetime import datetime\n",
    "from io import StringIO\n",
    "import matplotlib.pyplot as plt"
   ]
  },
  {
   "cell_type": "code",
   "execution_count": 2,
   "id": "803236be",
   "metadata": {},
   "outputs": [],
   "source": [
    "# -------------------------- #\n",
    "#      Logging Setup         #\n",
    "# -------------------------- #\n",
    "logging.basicConfig(\n",
    "    filename=\"etl_project_log.txt\",\n",
    "    level=logging.INFO,\n",
    "    format=\"%(asctime)s - %(levelname)s - %(message)s\"\n",
    ")\n",
    "\n",
    "def log_step(message):\n",
    "    \"\"\"Logs and prints a step of the ETL process with a timestamp.\"\"\"\n",
    "    print(message)\n",
    "    logging.info(message)"
   ]
  },
  {
   "cell_type": "markdown",
   "id": "0f505891",
   "metadata": {},
   "source": [
    "Helper functions"
   ]
  },
  {
   "cell_type": "code",
   "execution_count": 3,
   "id": "d923c233",
   "metadata": {},
   "outputs": [],
   "source": [
    "# Extract Function\n",
    "\n",
    "def extract_data(url):\n",
    "    \"\"\"\n",
    "    Extracts the GDP table from the given archived Wikipedia URL.\n",
    "    \"\"\"\n",
    "    log_step(\"Starting data extraction...\")\n",
    "    response = requests.get(url)\n",
    "    if response.status_code != 200:\n",
    "        raise Exception(\"Failed to fetch webpage.\")\n",
    "\n",
    "    soup = BeautifulSoup(response.text, 'html.parser')\n",
    "    all_tables = soup.find_all(\"table\", {\"class\": \"wikitable\"})\n",
    "\n",
    "    # Identify correct table by its caption\n",
    "    for table in all_tables:\n",
    "        caption = table.find(\"caption\")\n",
    "        if caption and \"GDP (USD million) by country\" in caption.text:\n",
    "            log_step(\"Found the correct GDP table using caption.\")\n",
    "            df = pd.read_html(StringIO(str(table)))[0]\n",
    "            return df\n",
    "\n",
    "    raise Exception(\"Could not find the correct GDP table by caption.\")\n",
    "\n",
    "\n",
    "# Transform Function\n",
    "\n",
    "def transform_data(df):\n",
    "    \"\"\"\n",
    "    Cleans and transforms the extracted GDP data:\n",
    "    - Keeps only Country and IMF Estimate columns\n",
    "    - Removes unwanted rows/characters\n",
    "    - Converts GDP to billions\n",
    "    \"\"\"\n",
    "    log_step(\"Starting data transformation...\")\n",
    "\n",
    "    # Select Country and IMF Estimate columns\n",
    "    df = df.iloc[:, [0, 2]]\n",
    "    df.columns = ['Country', 'GDP_USD_million']\n",
    "\n",
    "    # Remove 'World' row and invalid entries\n",
    "    df = df[~df['Country'].str.lower().isin(['world', '—'])]\n",
    "\n",
    "    # Clean GDP column: remove commas, em-dashes, footnotes\n",
    "    df['GDP_USD_million'] = df['GDP_USD_million'].replace(\n",
    "        to_replace=r'\\[.*?\\]|,|—', value='', regex=True\n",
    "    )\n",
    "\n",
    "    # Convert to numeric\n",
    "    df['GDP_USD_million'] = pd.to_numeric(df['GDP_USD_million'], errors='coerce')\n",
    "\n",
    "    # Drop NaN values\n",
    "    df = df.dropna(subset=['GDP_USD_million'])\n",
    "\n",
    "    # Convert to billions and round\n",
    "    df['GDP_USD_billion'] = (df['GDP_USD_million'] / 1000).round(2)\n",
    "\n",
    "    # Keep only final columns\n",
    "    df = df[['Country', 'GDP_USD_billion']]\n",
    "\n",
    "    log_step(\"Transformation complete.\")\n",
    "    return df\n",
    "\n",
    "\n",
    "### Load Function\n",
    "\n",
    "def load_to_csv(df, filename=\"Countries_by_GDP.csv\"):\n",
    "    \"\"\"\n",
    "    Saves the DataFrame to a CSV file.\n",
    "    \"\"\"\n",
    "    log_step(f\"Saving data to CSV file: {filename}\")\n",
    "    df.to_csv(filename, index=False)"
   ]
  },
  {
   "cell_type": "markdown",
   "id": "bd82462f",
   "metadata": {},
   "source": [
    "Run the ETL Process"
   ]
  },
  {
   "cell_type": "code",
   "execution_count": 5,
   "id": "7a6730b1",
   "metadata": {},
   "outputs": [
    {
     "name": "stdout",
     "output_type": "stream",
     "text": [
      "ETL process started.\n",
      "Starting data extraction...\n",
      "Found the correct GDP table using caption.\n"
     ]
    },
    {
     "data": {
      "text/html": [
       "<div>\n",
       "<style scoped>\n",
       "    .dataframe tbody tr th:only-of-type {\n",
       "        vertical-align: middle;\n",
       "    }\n",
       "\n",
       "    .dataframe tbody tr th {\n",
       "        vertical-align: top;\n",
       "    }\n",
       "\n",
       "    .dataframe thead tr th {\n",
       "        text-align: left;\n",
       "    }\n",
       "</style>\n",
       "<table border=\"1\" class=\"dataframe\">\n",
       "  <thead>\n",
       "    <tr>\n",
       "      <th></th>\n",
       "      <th>Country/Territory</th>\n",
       "      <th>UN region</th>\n",
       "      <th colspan=\"2\" halign=\"left\">IMF[1][13]</th>\n",
       "      <th colspan=\"2\" halign=\"left\">World Bank[14]</th>\n",
       "      <th colspan=\"2\" halign=\"left\">United Nations[15]</th>\n",
       "    </tr>\n",
       "    <tr>\n",
       "      <th></th>\n",
       "      <th>Country/Territory</th>\n",
       "      <th>UN region</th>\n",
       "      <th>Estimate</th>\n",
       "      <th>Year</th>\n",
       "      <th>Estimate</th>\n",
       "      <th>Year</th>\n",
       "      <th>Estimate</th>\n",
       "      <th>Year</th>\n",
       "    </tr>\n",
       "  </thead>\n",
       "  <tbody>\n",
       "    <tr>\n",
       "      <th>0</th>\n",
       "      <td>World</td>\n",
       "      <td>—</td>\n",
       "      <td>105568776</td>\n",
       "      <td>2023</td>\n",
       "      <td>100562011</td>\n",
       "      <td>2022</td>\n",
       "      <td>96698005</td>\n",
       "      <td>2021</td>\n",
       "    </tr>\n",
       "    <tr>\n",
       "      <th>1</th>\n",
       "      <td>United States</td>\n",
       "      <td>Americas</td>\n",
       "      <td>26854599</td>\n",
       "      <td>2023</td>\n",
       "      <td>25462700</td>\n",
       "      <td>2022</td>\n",
       "      <td>23315081</td>\n",
       "      <td>2021</td>\n",
       "    </tr>\n",
       "    <tr>\n",
       "      <th>2</th>\n",
       "      <td>China</td>\n",
       "      <td>Asia</td>\n",
       "      <td>19373586</td>\n",
       "      <td>[n 1]2023</td>\n",
       "      <td>17963171</td>\n",
       "      <td>[n 3]2022</td>\n",
       "      <td>17734131</td>\n",
       "      <td>[n 1]2021</td>\n",
       "    </tr>\n",
       "    <tr>\n",
       "      <th>3</th>\n",
       "      <td>Japan</td>\n",
       "      <td>Asia</td>\n",
       "      <td>4409738</td>\n",
       "      <td>2023</td>\n",
       "      <td>4231141</td>\n",
       "      <td>2022</td>\n",
       "      <td>4940878</td>\n",
       "      <td>2021</td>\n",
       "    </tr>\n",
       "    <tr>\n",
       "      <th>4</th>\n",
       "      <td>Germany</td>\n",
       "      <td>Europe</td>\n",
       "      <td>4308854</td>\n",
       "      <td>2023</td>\n",
       "      <td>4072192</td>\n",
       "      <td>2022</td>\n",
       "      <td>4259935</td>\n",
       "      <td>2021</td>\n",
       "    </tr>\n",
       "  </tbody>\n",
       "</table>\n",
       "</div>"
      ],
      "text/plain": [
       "  Country/Territory UN region IMF[1][13]            World Bank[14]             \\\n",
       "  Country/Territory UN region   Estimate       Year       Estimate       Year   \n",
       "0             World         —  105568776       2023      100562011       2022   \n",
       "1     United States  Americas   26854599       2023       25462700       2022   \n",
       "2             China      Asia   19373586  [n 1]2023       17963171  [n 3]2022   \n",
       "3             Japan      Asia    4409738       2023        4231141       2022   \n",
       "4           Germany    Europe    4308854       2023        4072192       2022   \n",
       "\n",
       "  United Nations[15]             \n",
       "            Estimate       Year  \n",
       "0           96698005       2021  \n",
       "1           23315081       2021  \n",
       "2           17734131  [n 1]2021  \n",
       "3            4940878       2021  \n",
       "4            4259935       2021  "
      ]
     },
     "metadata": {},
     "output_type": "display_data"
    },
    {
     "name": "stdout",
     "output_type": "stream",
     "text": [
      "Starting data transformation...\n",
      "Transformation complete.\n"
     ]
    },
    {
     "data": {
      "text/html": [
       "<div>\n",
       "<style scoped>\n",
       "    .dataframe tbody tr th:only-of-type {\n",
       "        vertical-align: middle;\n",
       "    }\n",
       "\n",
       "    .dataframe tbody tr th {\n",
       "        vertical-align: top;\n",
       "    }\n",
       "\n",
       "    .dataframe thead th {\n",
       "        text-align: right;\n",
       "    }\n",
       "</style>\n",
       "<table border=\"1\" class=\"dataframe\">\n",
       "  <thead>\n",
       "    <tr style=\"text-align: right;\">\n",
       "      <th></th>\n",
       "      <th>Country</th>\n",
       "      <th>GDP_USD_billion</th>\n",
       "    </tr>\n",
       "  </thead>\n",
       "  <tbody>\n",
       "    <tr>\n",
       "      <th>1</th>\n",
       "      <td>United States</td>\n",
       "      <td>26854.60</td>\n",
       "    </tr>\n",
       "    <tr>\n",
       "      <th>2</th>\n",
       "      <td>China</td>\n",
       "      <td>19373.59</td>\n",
       "    </tr>\n",
       "    <tr>\n",
       "      <th>3</th>\n",
       "      <td>Japan</td>\n",
       "      <td>4409.74</td>\n",
       "    </tr>\n",
       "    <tr>\n",
       "      <th>4</th>\n",
       "      <td>Germany</td>\n",
       "      <td>4308.85</td>\n",
       "    </tr>\n",
       "    <tr>\n",
       "      <th>5</th>\n",
       "      <td>India</td>\n",
       "      <td>3736.88</td>\n",
       "    </tr>\n",
       "  </tbody>\n",
       "</table>\n",
       "</div>"
      ],
      "text/plain": [
       "         Country  GDP_USD_billion\n",
       "1  United States         26854.60\n",
       "2          China         19373.59\n",
       "3          Japan          4409.74\n",
       "4        Germany          4308.85\n",
       "5          India          3736.88"
      ]
     },
     "metadata": {},
     "output_type": "display_data"
    },
    {
     "name": "stdout",
     "output_type": "stream",
     "text": [
      "Saving data to CSV file: Countries_by_GDP.csv\n",
      "ETL process completed successfully.\n"
     ]
    }
   ],
   "source": [
    "\n",
    "# URL of the archived Wikipedia page\n",
    "url = 'https://web.archive.org/web/20230902185326/https://en.wikipedia.org/wiki/List_of_countries_by_GDP_%28nominal%29'\n",
    "\n",
    "try:\n",
    "    log_step(\"ETL process started.\")\n",
    "    \n",
    "    # Extract\n",
    "    df_raw = extract_data(url)\n",
    "    display(df_raw.head())  # Show raw data\n",
    "    \n",
    "    # Transform\n",
    "    df_transformed = transform_data(df_raw)\n",
    "    display(df_transformed.head())  # Show transformed data\n",
    "    \n",
    "    # Load\n",
    "    load_to_csv(df_transformed)\n",
    "    \n",
    "    log_step(\"ETL process completed successfully.\")\n",
    "\n",
    "except Exception as e:\n",
    "    log_step(f\"ETL process failed: {str(e)}\")"
   ]
  },
  {
   "cell_type": "markdown",
   "id": "b3bff786",
   "metadata": {},
   "source": [
    "Plot Top 10 Countries by GDP"
   ]
  },
  {
   "cell_type": "code",
   "execution_count": 8,
   "id": "9c163ff1",
   "metadata": {},
   "outputs": [
    {
     "name": "stdout",
     "output_type": "stream",
     "text": [
      "Creating Top 10 GDP plot...\n"
     ]
    },
    {
     "data": {
      "image/png": "[encoded data removed]",
      "text/plain": [
       "<Figure size 1000x600 with 1 Axes>"
      ]
     },
     "metadata": {},
     "output_type": "display_data"
    }
   ],
   "source": [
    "# Function to plot Top 10 Countries by GDP\n",
    "def plot_top_10(df):\n",
    "    log_step(\"Creating Top 10 GDP plot...\")\n",
    "    \n",
    "    top_10 = df.sort_values(by=\"GDP_USD_billion\", ascending=False).head(10)\n",
    "    \n",
    "    plt.figure(figsize=(10, 6))\n",
    "    plt.barh(top_10['Country'], top_10['GDP_USD_billion'], color='teal')\n",
    "    plt.gca().invert_yaxis()  # Largest at the top\n",
    "    plt.title(\"Top 10 Countries by GDP (USD Billions)\", fontsize=14)\n",
    "    plt.xlabel(\"GDP (USD Billions)\")\n",
    "    plt.grid(axis='x', linestyle='--', alpha=0.7)\n",
    "    plt.show()\n",
    "\n",
    "# Call the function\n",
    "plot_top_10(df_transformed)\n"
   ]
  }
 ],
 "metadata": {
  "kernelspec": {
   "display_name": "venv (3.13.5)",
   "language": "python",
   "name": "python3"
  },
  "language_info": {
   "codemirror_mode": {
    "name": "ipython",
    "version": 3
   },
   "file_extension": ".py",
   "mimetype": "text/x-python",
   "name": "python",
   "nbconvert_exporter": "python",
   "pygments_lexer": "ipython3",
   "version": "3.13.5"
  }
 },
 "nbformat": 4,
 "nbformat_minor": 5
}
